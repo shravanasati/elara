{
 "cells": [
  {
   "cell_type": "markdown",
   "metadata": {},
   "source": [
    "## Practical 6\n",
    "\n",
    "Aim: Implementation and Time Analysis of Dijikstra's algorithm."
   ]
  },
  {
   "cell_type": "code",
   "execution_count": null,
   "metadata": {},
   "outputs": [
    {
     "name": "stdout",
     "output_type": "stream",
     "text": [
      "Shortest distances={'A': 0, 'B': 1, 'C': 3, 'D': 4}\n",
      "Previous node= {'A': None, 'B': 'A', 'C': 'B', 'D': 'C'}\n"
     ]
    }
   ],
   "source": [
    "import heapq\n",
    "\n",
    "def dijikstra(graph, start):\n",
    "\tdistances = {node: float(\"inf\") for node in graph}\n",
    "\tdistances[start] = 0\n",
    "\tpriority_queue = [(0, start)]\n",
    "\tprev_nodes = {node: None for node in graph}\n",
    "\twhile priority_queue:\n",
    "\t\tcurrent_dist, current_node = heapq.heappop(priority_queue)\n",
    "\t\tif current_dist > distances[current_node]:\n",
    "\t\t\tcontinue\n",
    "\t\tfor neighbor, weight in graph[current_node]:\n",
    "\t\t\tdistance = current_dist + weight\n",
    "\t\t\tif distance < distances[neighbor]:\n",
    "\t\t\t\tdistances[neighbor] = distance\n",
    "\t\t\t\tprev_nodes[neighbor] = current_node\n",
    "\t\t\t\theapq.heappush(priority_queue, (distance, neighbor))\n",
    "\n",
    "\treturn distances, prev_nodes\n",
    "\n",
    "graph = {\n",
    "\t'A': [('B', 1), ('C', 4)],\n",
    "\t'B': [('A', 1), ('C', 2), ('D', 5)],\n",
    "\t'C': [('A', 4), ('B', 2), ('D', 1)],\n",
    "\t'D': [('B', 5), ('C', 1)],\n",
    "}\n",
    "\n",
    "distances, prev_nodes = dijikstra(graph, 'A')\n",
    "print(f\"Shortest {distances=}\")\n",
    "print(f\"Previous node= {prev_nodes}\")\n"
   ]
  },
  {
   "cell_type": "markdown",
   "metadata": {},
   "source": [
    "### Complexity Analysis\n",
    "\n",
    "Time: O((V + E) logV)\n",
    "\n",
    "Space: O(V + E)"
   ]
  },
  {
   "cell_type": "code",
   "execution_count": 1,
   "metadata": {},
   "outputs": [
    {
     "name": "stdout",
     "output_type": "stream",
     "text": [
      "Vertex Distance from Source\n",
      "0\t\t0\n",
      "1\t\t-1\n",
      "2\t\t2\n",
      "3\t\t-2\n",
      "4\t\t1\n"
     ]
    }
   ],
   "source": [
    "class Graph:\n",
    "    def __init__(self, vertices):\n",
    "        self.V = vertices\n",
    "        self.edges = []\n",
    "\n",
    "    def add_edge(self, u, v, w):\n",
    "        self.edges.append([u, v, w])\n",
    "\n",
    "    def bellman_ford(self, src):\n",
    "        dist = [float(\"inf\")] * self.V\n",
    "        dist[src] = 0\n",
    "\n",
    "        for _ in range(self.V - 1):\n",
    "            for u, v, w in self.edges:\n",
    "                if dist[u] != float(\"inf\") and dist[u] + w < dist[v]:\n",
    "                    dist[v] = dist[u] + w\n",
    "\n",
    "        for u, v, w in self.edges:\n",
    "            if dist[u] != float(\"Inf\") and dist[u] + w < dist[v]:\n",
    "                print(\"Graph contains negative weight cycle\")\n",
    "                return\n",
    "\n",
    "        self.print_solution(dist)\n",
    "\n",
    "    def print_solution(self, dist):\n",
    "        print(\"Vertex Distance from Source\")\n",
    "        for i in range(self.V):\n",
    "            print(f\"{i}\\t\\t{dist[i]}\")\n",
    "\n",
    "\n",
    "g = Graph(5)\n",
    "g.add_edge(0, 1, -1)\n",
    "g.add_edge(0, 2, 4)\n",
    "g.add_edge(1, 2, 3)\n",
    "g.add_edge(1, 3, 2)\n",
    "g.add_edge(1, 4, 2)\n",
    "g.add_edge(3, 2, 5)\n",
    "g.add_edge(3, 1, 1)\n",
    "g.add_edge(4, 3, -3)\n",
    "\n",
    "g.bellman_ford(0)"
   ]
  },
  {
   "cell_type": "markdown",
   "metadata": {},
   "source": [
    "### Complexity Analysis\n",
    "\n",
    "Time: O(V x E)\n",
    "\n",
    "Space: O(V + E)"
   ]
  },
  {
   "cell_type": "code",
   "execution_count": 1,
   "metadata": {},
   "outputs": [
    {
     "ename": "NameError",
     "evalue": "name 'ppprint' is not defined",
     "output_type": "error",
     "traceback": [
      "\u001b[31m---------------------------------------------------------------------------\u001b[39m",
      "\u001b[31mNameError\u001b[39m                                 Traceback (most recent call last)",
      "\u001b[36mCell\u001b[39m\u001b[36m \u001b[39m\u001b[32mIn[1]\u001b[39m\u001b[32m, line 1\u001b[39m\n\u001b[32m----> \u001b[39m\u001b[32m1\u001b[39m \u001b[43mppprint\u001b[49m (lol)\n",
      "\u001b[31mNameError\u001b[39m: name 'ppprint' is not defined"
     ]
    }
   ],
   "source": [
    "ppprint (lol)"
   ]
  }
 ],
 "metadata": {
  "kernelspec": {
   "display_name": "Python 3",
   "language": "python",
   "name": "python3"
  },
  "language_info": {
   "codemirror_mode": {
    "name": "ipython",
    "version": 3
   },
   "file_extension": ".py",
   "mimetype": "text/x-python",
   "name": "python",
   "nbconvert_exporter": "python",
   "pygments_lexer": "ipython3",
   "version": "3.12.9"
  }
 },
 "nbformat": 4,
 "nbformat_minor": 2
}
